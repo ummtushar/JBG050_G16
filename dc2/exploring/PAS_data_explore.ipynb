{
 "cells": [
  {
   "cell_type": "code",
   "execution_count": 27,
   "metadata": {},
   "outputs": [
    {
     "name": "stderr",
     "output_type": "stream",
     "text": [
      "C:\\Users\\sbsas\\AppData\\Local\\Temp\\ipykernel_23648\\3852784945.py:13: DtypeWarning: Columns (13,14,15,16,17,18,19,20,21,22,35,177,410,411,412,415,416,417,418,419,420,421,422,423) have mixed types. Specify dtype option on import or set low_memory=False.\n",
      "  df = pd.read_csv(file)\n",
      "C:\\Users\\sbsas\\AppData\\Local\\Temp\\ipykernel_23648\\3852784945.py:13: DtypeWarning: Columns (30,31,32,98,99,100,101,102,103,104,105,125,126,127,199,200) have mixed types. Specify dtype option on import or set low_memory=False.\n",
      "  df = pd.read_csv(file)\n",
      "C:\\Users\\sbsas\\AppData\\Local\\Temp\\ipykernel_23648\\3852784945.py:13: DtypeWarning: Columns (25,26,27,28,108,109,110,112,113,137,202,203,381) have mixed types. Specify dtype option on import or set low_memory=False.\n",
      "  df = pd.read_csv(file)\n",
      "C:\\Users\\sbsas\\AppData\\Local\\Temp\\ipykernel_23648\\3852784945.py:13: DtypeWarning: Columns (41,42,43,131,132,133,213,214,435,444,451) have mixed types. Specify dtype option on import or set low_memory=False.\n",
      "  df = pd.read_csv(file)\n"
     ]
    },
    {
     "name": "stdout",
     "output_type": "stream",
     "text": [
      "PAS_ward_level_FY_20_21.csv does not have C2 column\n",
      "Common columns in all files:\n",
      "{'BQ90C', 'Q148', 'ward_unique', 'NQ135BD', 'RQ80E', 'Q62B', 'Q37', 'Q131', 'Q62C', 'Q39BD', 'Q144', 'NQ43', 'Q39BA', 'Unnamed: 0', 'BQ90A', 'NQ143', 'Q3C', 'Q1', 'Q3J', 'A120', 'Q39BE', 'ward', 'Q61', 'Q3I', 'MONTH', 'Quarter1.1', 'NQ62B', 'ward_n', 'Q62F', 'Q39BB', 'interview_date', 'FinancialYear', 'Q39A_2', 'Q3F', 'NQ133A', 'NQ135BH', 'Q13', 'A121', 'Q60', 'Q62A', 'Q39BC', 'BOROUGHNEIGHBOURHOOD', 'Q62TG', 'Q133', 'Q3L', 'Q15'}\n",
      "\n",
      "Columns per file that are not found in all other files:\n",
      "PAS_ward_level_FY_15_17.csv: ['NQ80BE', 'NQ135B_newW', 'Q10C', 'PQ135AAS', 'PQ135AA', 'NQ135A_newAH', 'WT_Q43', 'NQ1', 'NQ119', 'Q132B', 'NQ10BD', 'NQ135B_newU', 'PQ135AE', 'NQ57AA', 'Q21', 'NQ45BE', 'WT_Q41_B', 'Q59', 'Q38C', 'PQ135AY', 'Q16D', 'NQ7B', 'PQ135AAF', 'Q9', 'Q10F', 'PQ135AAB', 'Q3K', 'PQ135AM', 'SQ132A_2', 'NQ80D', 'Q62H', 'NQ44A', 'Q132K', 'NQ135A_newAE', 'SQ80G', 'NQ135A_newAL', 'Q139r', 'WT_Q45_B', 'Q10B', 'BQ90EH', 'NQ79ABC', 'NQ135A_newAR', 'NQ135A_newU', 'Q16A', 'Q132AK', 'SQ80D', 'NQ45BC', 'Q54D', 'BQ90EC', 'BQ90EG', 'SQ132G', 'WT_Q42_E', 'WT_Q46_E', 'NQ10BB', 'PQ135BR', 'SQ132AC', 'WT_Q47', 'Q79I', 'WT_Q42', 'C2', 'NQ135A_newP', 'Q79G', 'NQ79ABA', 'SQ132L', 'PQ135AS', 'PQ135AAO', 'Q79F', 'NQ135A_newAD', 'NQ149r', 'NQ147r', 'WT_Q45', 'PQ135AL', 'NQ135A_newAQ', 'NQ2D', 'NQ135A_newAF', 'Q110', 'NQ155r', 'Q132X', 'NQ135A_newAV', 'PQ135AAY', 'BQ90B', 'NQ135A_newD', 'WT_Q47_E', 'Q14C', 'Q132AA', 'Q16C', 'NQ79A', 'PQ135BU', 'SQ132AJ', 'Q125', 'PQ135AAL', 'Q79A', 'Q132AC', 'NQ135BI', 'Q16E', 'NQ135A_newC', 'Q1D', 'NQ135A_newN', 'NQ135B_newA', 'Q132P', 'SQ132N', 'NQ2B', 'NQ135BE', 'SQ79C', 'NQ21', 'PQ135BW', 'NQ135A_newT', 'PQ135AG', 'Q38E', 'NQ135A_newR', 'WT_Q48', 'NQ133', 'PQ135AN', 'NQ135A_newAU', 'PQ135AAN', 'Q38A', 'Q132Z', 'NQ2G', 'NQ2A', 'NQ7A', 'PQ135BS', 'SQ132AI', 'PQ135BE', 'SQ132AL', 'Q132NN', 'Q106', 'NQ10BC', 'NQ79BC', 'Q10E', 'NQ135A_newB', 'NQ136BA', 'NNQ27E', 'NQ135A_newX', 'NQ135B_newN', 'Q3H', 'Q38B', 'PQ135BC', 'NQ146', 'Q14A', 'WT_Q47_B', 'PQ135AAM', 'PQ135BI', 'NQ135A_newAW', 'NQ135A_newV', 'NQ136BC', 'PQ135AAV', 'Q3G', 'Q132O', 'NQ135A_newF', 'Q54A', 'BQ90ED', 'PQ135AAR', 'quarter', 'NQ79BB', 'NQ135A_newW', 'NQ135B_newQ', 'WT_Q43_E', 'NQ135A_newY', 'SQ132V', 'NQ135B_newH', 'Q126DB', 'NQ44BA', 'PQ135AH', 'NQ135B_newR', 'SQ132AM', 'NQ80BB', 'NQ2H', 'NQ80', 'NQ135A_newAA', 'SQ109CAE', 'NQ135A_newAK', 'WT_Q46_B', 'Q132J', 'SQ109CAA', 'NQ44BC', 'Q132AB', 'NQ135B_newC', 'Q79E', 'Q79H', 'SQ109CAB', 'PQ135AO', 'PQ135BQ', 'Q79J', 'SQ79DC', 'NQ45A', 'SQ132AD', 'NQ135A_newAX', 'NQ136BD', 'PQ135BG', 'SQ132NN', 'NQ135A_newO', 'PQ135AU', 'PQ135BO', 'NQ57AD', 'NQ135A_newJ', 'NQ135A_newAJ', 'SQ132P', 'Q54B', 'NQ135BG', 'NQ2C', 'NQ135A_newS', 'Q132L', 'SQ132AB', 'NQ135A_newAY', 'NQ136CB', 'Q14E', 'SQ132F', 'Q132N', 'NNQ27C', 'Q124', 'PQ135AAH', 'BQ90EF', 'NQ135BC', 'WT_Q41', 'NQ135B_newJ', 'NQ135A_newAC', 'Q132V', 'Q106B', 'WT_Q43_B', 'NQ135B_newD', 'SQ80F', 'PQ135AAU', 'Q132I', 'NQ135A_newE', 'Q10H', 'PQ135AJ', 'NQ136BB', 'NQ80C', 'NQ135A_newAT', 'SQ79DB', 'PQ135BD', 'NQ135A_newAB', 'PQ135BB', 'Q126DA', 'NQ45BB', 'Q38D', 'PQ135BV', 'PQ135AAW', 'Q62TI', 'NQ135A_newAO', 'WT_Q48_E', 'WT_Q42_B', 'SQ132B', 'Q14B', 'NQ79BD', 'PQ135AF', 'Q16B', 'SQ132Z', 'PQ135AT', 'PQ135AAQ', 'Q132M', 'SQ132Y', 'SQ132J', 'PQ135BP', 'SQ79A', 'PQ135AX', 'NQ135A_newAM', 'Q132G', 'SQ79DF', 'Q145', 'PQ135AK', 'NQ135A_newK', 'SQ132M', 'SQ80E', 'NQ135B_newG', 'SQ109CAF', 'PQ135AAC', 'PQ135AP', 'Q122', 'Q114', 'NQ135A_newH', 'SQ132AH', 'PQ135AD', 'Q123', 'Q132AG', 'NQ135A_newAP', 'Q10A', 'SQ109CAD', 'NQ135B_newS', 'Q132AM', 'NQ135A_newM', 'Q132AH', 'Q62TJ', 'SQ132AA', 'PQ135AR', 'NQ135B_newP', 'Q132Y', 'NQ44BD', 'PQ135BK', 'SQ80C', 'SQ132W', 'NQ136BE', 'Q79B', 'Q132AJ', 'NQ57AB', 'PQ135AQ', 'BQ90EA', 'NQ62A', 'PQ135BF', 'SQ132I', 'NQ135A_newL', 'SQ132S', 'NQ57AC', 'NQ44BB', 'WT_Q44_B', 'Q132F', 'PQ135AZ', 'PQ135AAT', 'Q79D', 'NQ2E', 'PQ135AAX', 'Q132S', 'NQ135A_newI', 'NQ79ABB', 'SQ79DD', 'NQ135B_newL', 'PQ135AV', 'Q132W', 'BQ90EE', 'PQ135BL', 'PQ135AAP', 'NQ135B_newV', 'NQ135BB', 'Q62E', 'NQ80A', 'PQ135AAA', 'NQ135A_newA', 'Q141', 'PQ135AAG', 'NQ135A_newAI', 'NQ135A_newZ', 'NQ135B_newO', 'NQ135A_newAS', 'Q65', 'PQ135BM', 'NQ80BC', 'PQ135AI', 'NQ136A', 'Q150r', 'SOA2', 'NQ2I', 'NQ135A_newQ', 'Q132AE', 'Q126DC', 'Legacy_NQ79BA', 'NQ45BD', 'NQ135B_newT', 'SQ132O', 'PQ135AC', 'Q14D', 'WT_Q44_E', 'Q66', 'Q132GG', 'PQ135AAI', 'Q136r', 'SQ79E', 'NQ135B_newM', 'NQ79BI', 'PQ135BJ', 'Q54C', 'BQ90D', 'SQ132AK', 'Q142F', 'SQ132K', 'PQ135AAJ', 'NQ135A_newAN', 'SQ109CAC', 'NQ135BF', 'Q132AL', 'NQ136CA', 'NQ2F', 'SQ132X', 'PQ98A', 'Q132AI', 'WT_Q48_B', 'WT_Q46', 'PQ135AAK', 'Q58', 'NQ44BE', 'PQ135BN', 'BQ90EB', 'NQ10BE', 'TQ132', 'PQ135AB', 'Q10D', 'NQ45BA', 'PQ119', 'NQ135A_newG', 'PQ135AAD', 'SOA1', 'NQ136BF', 'NQ80BD', 'SQ132AE', 'SQ132GG', 'NQ135B_newF', 'XQ135r', 'PQ135BH', 'NQ10BF', 'NQ10A', 'PQ135BT', 'NQ135B_newK', 'PQ135BA', 'SQ79F', 'NQ57AE', 'Q62D', 'Q119', 'NQ10BA', 'SQ132AG', 'Q54E', 'SQ79DA', 'SQ79DE', 'PQ135AAE', 'Q132AD', 'Q146', 'WT_Q44', 'NQ135B_newB', 'NQ79ABD', 'NQ135A_newAG', 'Legacy_Q73', 'NQ80H', 'SQ79B', 'NQ135B_newE', 'NQ135B_newI', 'Q79C', 'NQ80BA', 'PQ135AW', 'NQ79ABE']\n",
      "PAS_ward_level_FY_17_18.csv: ['NQ80BE', 'PQ135AAS', 'PQ135AA', 'NQ135A_newAH', 'Q132B', 'WT_Q50_B', 'PQ135AE', 'NQ57AA', 'Q21', 'NQ45BE', 'ZQ10A', 'Q59', 'Q38C', 'PQ135AY', 'XQ81B', 'Q16D', 'NQ7B', 'PQ135AAF', 'Q9', 'PQ135AAB', 'Q3K', 'ZQ10H', 'ZNQ10BB', 'PQ135AM', 'SQ132A_2', 'NQ80D', 'Q62H', 'NQ44A', 'Q132K', 'NQ135A_newAE', 'NQ135A_newAL', 'Q139r', 'XQ3A', 'WT_Q50_E', 'BQ90EH', 'NQ79ABC', 'NQ135A_newAR', 'NQ135A_newU', 'Q16A', 'Q132AK', 'SQ80D', 'NQ45BC', 'Q54D', 'BQ90EC', 'BQ90EG', 'ZQ10F', 'SQ132G', 'SQ132AC', 'Q79I', 'C2', 'NQ135A_newP', 'Q79G', 'NQ79ABA', 'SQ132L', 'PQ135AS', 'PQ135AAO', 'Q79F', 'NQ135A_newAD', 'NQ149r', 'NQ147r', 'PQ135AL', 'NQ135A_newAQ', 'NQ135A_newAF', 'NQ155r', 'Q132X', 'BOROUGHNEIGHBOURHOODCODED', 'NQ135A_newAV', 'PQ135AAY', 'BQ90B', 'NQ135A_newD', 'Q14C', 'Q132AA', 'Q16C', 'NQ79A', 'SQ132AJ', 'Q125', 'PQ135AAL', 'Q79A', 'Q132AC', 'NQ135BI', 'Q16E', 'NQ135A_newC', 'NQ135A_newN', 'Q132P', 'SQ132N', 'SQ79C', 'NQ21', 'NQ135A_newT', 'PQ135AG', 'Q38E', 'NQ135A_newR', 'WT_Q52', 'NQ133', 'PQ135AN', 'NQ135A_newAU', 'PQ135AAN', 'Q38A', 'Q132Z', 'SQ132AI', 'XQ9A', 'ZNQ10A', 'SQ132AL', 'XQ57C', 'Q132NN', 'Q106', 'NQ79BC', 'NQ135A_newB', 'NNQ27E', 'NQ135A_newX', 'Q3H', 'Q38B', 'NQ146', 'Q14A', 'PQ135AAM', 'NQ135A_newAW', 'NQ135A_newV', 'BOROU1', 'PQ135AAV', 'Q3G', 'Q132O', 'NQ135A_newF', 'Q54A', 'BQ90ED', 'PQ135AAR', 'quarter', 'NQ79BB', 'NQ135A_newW', 'NQ135A_newY', 'SQ132V', 'NQ44BA', 'PQ135AH', 'XQ123', 'ZQ10B', 'SQ132AM', 'WT_Q52_B', 'NQ80BB', 'NQ80', 'NQ135A_newAA', 'SQ109CAE', 'NQ135A_newAK', 'Q132J', 'SQ109CAA', 'NQ44BC', 'Q132AB', 'XQ57B', 'Q79E', 'Q79H', 'SQ109CAB', 'PQ135AO', 'Q79J', 'SQ79DC', 'NQ45A', 'SQ132AD', 'NQ135A_newAX', 'WT_Q51_B', 'SQ132NN', 'BOROU0', 'NQ135A_newO', 'PQ135AU', 'NQ57AD', 'NQ135A_newJ', 'NQ135A_newAJ', 'SQ132P', 'Q54B', 'NQ135A_newS', 'Q132L', 'SQ132AB', 'NQ135A_newAY', 'Q14E', 'SQ132F', 'Q132N', 'NNQ27C', 'Q124', 'PQ135AAH', 'BQ90EF', 'NQ135BC', 'NQ135A_newAC', 'Q132V', 'PQ135AAU', 'Q132I', 'NQ135A_newE', 'PQ135AJ', 'XQ122', 'XQ3B', 'NQ80C', 'NQ135A_newAT', 'SQ79DB', 'NQ135A_newAB', 'NQ45BB', 'ZQ110', 'XQ81A', 'Q38D', 'PQ135AAW', 'Q62TI', 'NQ135A_newAO', 'SQ132B', 'Q14B', 'NQ79BD', 'PQ135AF', 'Q16B', 'SQ132Z', 'XQ106B', 'PQ135AT', 'Q132M', 'SQ132Y', 'PQ135AAQ', 'SQ132J', 'WT_Q51', 'PQ135AX', 'NQ135A_newAM', 'Q132G', 'SQ79DF', 'Q145', 'PQ135AK', 'NQ135A_newK', 'SQ132M', 'WARD_0', 'SQ109CAF', 'PQ135AAC', 'PQ135AP', 'Q122', 'XQ119A', 'NQ135A_newH', 'SQ132AH', 'PQ135AD', 'XQ9B', 'Q132AG', 'NQ135A_newAP', 'SQ109CAD', 'Q132AM', 'NQ135A_newM', 'Q132AH', 'Q62TJ', 'SQ132AA', 'PQ135AR', 'Q132Y', 'NQ44BD', 'ZQ10D', 'SQ80C', 'SQ132W', 'Q79B', 'Q132AJ', 'NQ57AB', 'PQ135AQ', 'BQ90EA', 'NQ62A', 'NQ135A_newL', 'SQ132I', 'SQ132S', 'NQ57AC', 'NQ44BB', 'Q132F', 'PQ135AZ', 'PQ135AAT', 'WT_Q51_E', 'Q79D', 'Q132S', 'PQ135AAX', 'NQ135A_newI', 'NQ79ABB', 'SQ79DD', 'PQ135AV', 'Q132W', 'BQ90EE', 'PQ135AAP', 'XQ21A', 'NQ135BB', 'Q62E', 'NQ80A', 'PQ135AAA', 'NQ135A_newA', 'Q141', 'PQ135AAG', 'NQ135A_newAI', 'NQ135A_newZ', 'NQ135A_newAS', 'ZNQ10BC', 'Q65', 'NQ80BC', 'PQ135AI', 'WT_Q49_E', 'ZNQ10BD', 'Q150r', 'SOA2', 'WT_Q50', 'NQ135A_newQ', 'Q132AE', 'XQ119B', 'NQ45BD', 'SQ132O', 'PQ135AC', 'XQ57A', 'Q14D', 'Q66', 'ZNQ10BF', 'Q132GG', 'PQ135AAI', 'Q136r', 'SQ79E', 'ZPQ119', 'XQ21D', 'NQ79BI', 'Q54C', 'BQ90D', 'XQ81', 'SQ132AK', 'Q142F', 'SQ132K', 'PQ135AAJ', 'NQ135A_newAN', 'ZNQ10BE', 'SQ109CAC', 'Q132AL', 'WARD_1', 'SQ132X', 'Q132AI', 'PQ135AAK', 'Q58', 'NQ44BE', 'BQ90EB', 'XQ192', 'PQ135AB', 'NQ45BA', 'WT_Q49', 'NQ135A_newG', 'PQ135AAD', 'SOA1', 'NQ80BD', 'SQ132AE', 'SQ132GG', 'XQ135r', 'XQ21B', 'ZNQ10BA', 'XQ8', 'ZQ10C', 'SQ79F', 'NQ57AE', 'Q62D', 'XQ21C', 'WT_Q49_B', 'XQ21E', 'SQ132AG', 'Q54E', 'SQ79DA', 'SQ79DE', 'PQ135AAE', 'Q132AD', 'ZNQ119', 'NQ79ABD', 'NQ135A_newAG', 'NQ80H', 'SQ79B', 'WT_Q52_E', 'Q79C', 'NQ80BA', 'PQ135AW', 'ZQ10E', 'NQ79ABE']\n",
      "PAS_ward_level_FY_18_19.csv: ['PQ135AAS', 'PQ135AA', 'NQ135A_newAH', 'Q132B', 'WT_Q50_B', 'PQ135AE', 'NQ57AA', 'Q21', 'NQ45BE', 'ZQ10A', 'Q59', 'Q38C', 'PQ135AY', 'XQ57D', 'Q16D', 'NQ7B', 'PQ135AAF', 'Q9', 'PQ135AAB', 'Q3K', 'ZQ10H', 'ZNQ10BB', 'PQ135AM', 'SQ132A_2', 'WT_Q54_B', 'Q62H', 'NQ44A', 'Q132K', 'NQ135A_newAE', 'NQ135A_newAL', 'Q139r', 'XQ3A', 'WT_Q50_E', 'BQ90EH', 'NQ79ABC', 'NQ135A_newAR', 'NQ135A_newU', 'Q16A', 'Q132AK', 'SQ80D', 'NQ45BC', 'Q54D', 'BQ90EC', 'BQ90EG', 'ZQ10F', 'SQ132G', 'SQ132AC', 'Q79I', 'C2', 'NQ135A_newP', 'Q79G', 'NQ79ABA', 'SQ132L', 'PQ135AS', 'PQ135AAO', 'Q79F', 'NQ135A_newAD', 'NQ149r', 'NQ47BE', 'NQ147r', 'PQ135AL', 'WT_Q53_E', 'NQ135A_newAQ', 'NQ135A_newAF', 'NQ155r', 'Q132X', 'BOROUGHNEIGHBOURHOODCODED', 'NQ46BA', 'NQ135A_newAV', 'NQ47BD', 'PQ135AAY', 'BQ90B', 'NQ135A_newD', 'Q14C', 'Q132AA', 'Q16C', 'NQ79A', 'SQ132AJ', 'Q125', 'PQ135AAL', 'Q79A', 'Q132AC', 'NQ135BI', 'Q16E', 'NQ135A_newC', 'NQ135A_newN', 'Q132P', 'SQ132N', 'SQ79C', 'NQ47A', 'NQ21', 'WT_Q56', 'NQ135A_newT', 'PQ135AG', 'Q38E', 'NQ135A_newR', 'WT_Q52', 'XQ82B', 'NQ133', 'PQ135AN', 'NQ135A_newAU', 'PQ135AAN', 'Q38A', 'Q132Z', 'WT_Q56_B', 'SQ132AI', 'XQ9A', 'ZNQ10A', 'SQ132AL', 'XQ57C', 'Q132NN', 'Q106', 'NQ79BC', 'NQ135A_newB', 'NNQ27E', 'NQ135A_newX', 'Q3H', 'Q38B', 'NQ146', 'Q14A', 'PQ135AAM', 'NQ135A_newAW', 'NQ135A_newV', 'PQ135AAV', 'Q3G', 'Q132O', 'NQ46BC', 'NQ135A_newF', 'Q54A', 'BQ90ED', 'PQ135AAR', 'quarter', 'NQ79BB', 'NQ135A_newW', 'NQ135A_newY', 'SQ132V', 'NQ44BA', 'PQ135AH', 'XQ123', 'ZQ10B', 'SQ132AM', 'WT_Q52_B', 'NQ135A_newAA', 'SQ109CAE', 'NQ135A_newAK', 'Q132J', 'SQ109CAA', 'NQ44BC', 'Q132AB', 'XQ57B', 'Q79E', 'Q79H', 'XQ82A', 'SQ109CAB', 'PQ135AO', 'Q79J', 'SQ79DC', 'NQ135BM', 'NQ45A', 'SQ132AD', 'NQ135A_newAX', 'WT_Q51_B', 'SQ132NN', 'NQ135A_newO', 'PQ135AU', 'NQ57AD', 'XQ59A', 'NQ135A_newAJ', 'NQ135A_newJ', 'NQ46BD', 'SQ132P', 'Q54B', 'WT_Discrete_rebased', 'NQ135A_newS', 'Q132L', 'NQ47BC', 'NQ135A_newAY', 'WT_Discrete', 'SQ132AB', 'Q14E', 'SQ132F', 'Q132N', 'NNQ27C', 'Q124', 'PQ135AAH', 'BQ90EF', 'NQ135BC', 'NQ135A_newAC', 'Q132V', 'WT_Q54_E', 'PQ135AAU', 'Q132I', 'NQ135A_newE', 'PQ135AJ', 'XQ122', 'XQ3B', 'NQ135A_newAT', 'SQ79DB', 'NQ135A_newAB', 'NQ45BB', 'ZQ110', 'NQ135BN', 'Q38D', 'PQ135AAW', 'NQ46BE', 'Q62TI', 'NQ135A_newAO', 'SQ132B', 'Q14B', 'NQ79BD', 'PQ135AF', 'Q16B', 'SQ132Z', 'XQ106B', 'PQ135AT', 'Q132M', 'SQ132Y', 'PQ135AAQ', 'SQ132J', 'WT_Q51', 'PQ135AX', 'NQ135A_newAM', 'Q132G', 'SQ79DF', 'Q145', 'PQ135AK', 'NQ135A_newK', 'SQ132M', 'SQ109CAF', 'PQ135AAC', 'PQ135AP', 'Q122', 'XQ119A', 'NQ46BB', 'NQ135A_newH', 'SQ132AH', 'PQ135AD', 'XQ9B', 'Q132AG', 'NQ135A_newAP', 'SQ109CAD', 'Q132AM', 'NQ135A_newM', 'Q132AH', 'Q62TJ', 'PQ135AR', 'SQ132AA', 'Q132Y', 'NQ44BD', 'ZQ10D', 'ZQ10J', 'SQ80C', 'SQ132W', 'Q79B', 'Q132AJ', 'NQ57AB', 'PQ135AQ', 'BQ90EA', 'NQ62A', 'NQ135A_newL', 'SQ132I', 'WT_Q55_B', 'SQ132S', 'NQ57AC', 'NQ44BB', 'Q132F', 'PQ135AZ', 'PQ135AAT', 'WT_Q51_E', 'Q79D', 'Q132S', 'PQ135AAX', 'WT_Q53_B', 'NQ135A_newI', 'NQ79ABB', 'SQ79DD', 'PQ135AV', 'NQ46A', 'Q132W', 'BQ90EE', 'PQ135AAP', 'XQ21A', 'NQ135BB', 'Q62E', 'PQ135AAA', 'NQ135A_newA', 'Q141', 'PQ135AAG', 'NQ135A_newAI', 'NQ135A_newZ', 'NQ135A_newAS', 'ZNQ10BC', 'Q65', 'NQ135BK', 'PQ135AI', 'WT_Q49_E', 'ZNQ10BD', 'Q150r', 'SOA2', 'WT_Q50', 'NQ135A_newQ', 'Q132AE', 'XQ119B', 'NQ45BD', 'SQ132O', 'PQ135AC', 'XQ57A', 'Q14D', 'Q66', 'ZNQ10BF', 'Q132GG', 'PQ135AAI', 'Q136r', 'SQ79E', 'ZPQ119', 'ZQ10I', 'NQ79BI', 'Q54C', 'BQ90D', 'XQ81', 'SQ132AK', 'Q142F', 'SQ132K', 'PQ135AAJ', 'NQ135A_newAN', 'ZNQ10BE', 'SQ109CAC', 'Q132AL', 'SQ132X', 'Q132AI', 'WT_Q54', 'PQ135AAK', 'Q58', 'NQ44BE', 'NQ47BB', 'BQ90EB', 'WT_Q53', 'XQ192', 'PQ135AB', 'NQ45BA', 'WT_Q49', 'NQ135A_newG', 'PQ135AAD', 'SOA1', 'SQ132AE', 'SQ132GG', 'XQ135r', 'WT_Q55', 'ZNQ10BA', 'WT_Q56_E', 'XQ8', 'XQ59D', 'ZQ10C', 'SQ79F', 'NQ57AE', 'Q62D', 'WT_Q49_B', 'XQ21E', 'SQ132AG', 'WT_Q55_E', 'Q54E', 'SQ79DA', 'XQ59C', 'SQ79DE', 'PQ135AAE', 'XQ59B', 'Q132AD', 'NQ47BA', 'XBQ90A', 'ZNQ119', 'NQ135BL', 'NQ79ABD', 'NQ135A_newAG', 'SQ79B', 'WT_Q52_E', 'Q79C', 'PQ135AW', 'ZQ10E', 'NQ79ABE']\n",
      "PAS_ward_level_FY_19_20.csv: ['PQ135AAS', 'SQ79EL', 'PQ135AA', 'NQ135A_newAH', 'Q132B', 'PQ135AE', 'NQ57AA', 'Q21', 'NQ45BE', 'ZQ10A', 'XQ122B', 'Q59', 'NQ43AA', 'WT_Q58_B', 'Q38C', 'PQ135AY', 'Q16D', 'NQ7B', 'PQ135AAF', 'Q9', 'PQ135AAB', 'Q3K', 'ZQ10H', 'ZNQ10BB', 'PQ135AM', 'SQ132A_2', 'WT_Q54_B', 'Q62H', 'NQ44A', 'Q132K', 'NQ135A_newAE', 'WARD_2', 'NQ135A_newAL', 'Q139r', 'WARD_7', 'XQ3A', 'BQ90EH', 'NQ79ABC', 'NQ135A_newAR', 'NQ135A_newU', 'Q16A', 'Q132AK', 'SQ80D', 'NQ45BC', 'Q54D', 'BQ90EC', 'BQ90EG', 'ZQ10F', 'SQ132G', 'SQ79EN', 'NQ43AB', 'SQ132AC', 'Q79I', 'C2', 'NQ135A_newP', 'NQ43AD', 'Q79G', 'NQ79ABA', 'SQ132L', 'PQ135AS', 'PQ135AAO', 'Q79F', 'NQ135A_newAD', 'NQ149r', 'NQ47BE', 'NQ147r', 'PQ135AL', 'WT_Q53_E', 'NQ135A_newAQ', 'NQ135A_newAF', 'NQ155r', 'Q132X', 'BOROUGHNEIGHBOURHOODCODED', 'NQ46BA', 'NQ135A_newAV', 'NQ43AC', 'NQ47BD', 'PQ135AAY', 'BQ90B', 'NQ135A_newD', 'WT_Q60', 'Q14C', 'Q132AA', 'Q16C', 'NQ79A', 'SQ132AJ', 'Q125', 'PQ135AAL', 'Q79A', 'Q132AC', 'NQ135BI', 'Q16E', 'NQ135A_newC', 'NQ135A_newN', 'Q132P', 'SQ132N', 'BQ90DA', 'NQ135BE', 'SQ79C', 'BOROU6', 'NQ47A', 'NQ21', 'WT_Q56', 'NQ135A_newT', 'XQ57EB', 'PQ135AG', 'Q38E', 'NQ135A_newR', 'NQ133', 'PQ135AN', 'NQ135A_newAU', 'PQ135AAN', 'Q38A', 'Q132Z', 'SQ79ED', 'WT_Q56_B', 'SQ132AI', 'XQ9A', 'ZNQ10A', 'SQ132AL', 'XQ57C', 'Q132NN', 'Q106', 'NQ79BC', 'SQ79EP', 'NQ135A_newB', 'WARD_5', 'NNQ27E', 'NQ135A_newX', 'XQ106D', 'Q3H', 'Q38B', 'NQ146', 'Q14A', 'XQ57EF', 'PQ135AAM', 'WT_Q59', 'SQ79EM', 'NQ135A_newV', 'NQ135A_newAW', 'BOROU1', 'PQ135AAV', 'BOROU2', 'Q3G', 'Q132O', 'NQ46BC', 'NQ135A_newF', 'Q54A', 'BQ90ED', 'PQ135AAR', 'quarter', 'NQ79BB', 'NQ135A_newW', 'XQ57EC', 'NQ135A_newY', 'SQ132V', 'NQ44BA', 'WARD_4', 'PQ135AH', 'XQ123', 'ZQ10B', 'SQ132AM', 'SQ79EH', 'NQ135A_newAA', 'SQ109CAE', 'NQ135A_newAK', 'Q132J', 'SQ79EG', 'SQ109CAA', 'NQ44BC', 'WT_Q57_B', 'Q132AB', 'XQ57B', 'Q79E', 'Q79H', 'WARD_6', 'SQ109CAB', 'PQ135AO', 'NPQ135C', 'Q79J', 'SQ79DC', 'SQ79EA', 'NQ135BM', 'NQ45A', 'SQ132AD', 'NQ135A_newAX', 'SQ132NN', 'BOROU0', 'NQ135A_newO', 'PQ135AU', 'NQ57AD', 'XQ59A', 'BOROU5', 'NQ135A_newAJ', 'NQ135A_newJ', 'NQ46BD', 'SQ132P', 'Q54B', 'WT_Discrete_rebased', 'XQ128B', 'NQ135A_newS', 'Q132L', 'NQ47BC', 'NQ135A_newAY', 'WT_Discrete', 'SQ132AB', 'Q14E', 'SQ132F', 'Q132N', 'NNQ27C', 'Q124', 'PQ135AAH', 'BQ90EF', 'NQ135BC', 'NQ135A_newAC', 'Q132V', 'BQ90F', 'WT_Q54_E', 'PQ135AAU', 'Q132I', 'NQ135A_newE', 'WT_Q60_B', 'PQ135AJ', 'XQ122', 'XQ3B', 'NQ135A_newAT', 'SQ79DB', 'NQ135A_newAB', 'NQ45BB', 'ZQ110', 'SQ79EK', 'NQ135BN', 'NPQ135A', 'Q38D', 'PQ135AAW', 'NQ46BE', 'Q62TI', 'NQ135A_newAO', 'WARD_3', 'SQ79EE', 'SQ132B', 'Q14B', 'NQ79BD', 'PQ135AF', 'Q16B', 'NQ79D', 'XQ106B', 'SQ132Z', 'Q132M', 'SQ132Y', 'WT_Q59_B', 'PQ135AT', 'PQ135AAQ', 'SQ132J', 'PQ135AX', 'NQ135A_newAM', 'Q132G', 'SQ79DF', 'Q145', 'PQ135AK', 'NQ135A_newK', 'SQ132M', 'WARD_0', 'SQ109CAF', 'PQ135AAC', 'NQ62C', 'PQ135AP', 'Q122', 'XQ119A', 'NQ46BB', 'WT_Q57_E', 'NQ135A_newH', 'SQ132AH', 'PQ135AD', 'XQ9B', 'Q132AG', 'XQ128A', 'NQ135A_newAP', 'SQ109CAD', 'Q132AM', 'NQ135A_newM', 'Q132AH', 'Q62TJ', 'SQ132AA', 'PQ135AR', 'Q132Y', 'NQ44BD', 'ZQ10D', 'ZQ10J', 'SQ80C', 'SQ132W', 'XQ114C', 'Q79B', 'Q132AJ', 'NQ57AB', 'PQ135AQ', 'BQ90EA', 'NQ62A', 'NQ135A_newL', 'SQ132I', 'WT_Q55_B', 'SQ132S', 'NQ57AC', 'NQ44BB', 'WT_Q60_E', 'Q132F', 'PQ135AZ', 'PQ135AAT', 'BOROU7', 'Q79D', 'Q132S', 'PQ135AAX', 'NNQ135A_newA', 'NQ135A_newI', 'WT_Q53_B', 'NQ79ABB', 'SQ79EJ', 'SQ79DD', 'XQ128C', 'PQ135AV', 'NQ46A', 'Q132W', 'BQ90EE', 'PQ135AAP', 'NQ135BB', 'Q62E', 'PQ135AAA', 'NQ135A_newA', 'NQ49C', 'XQ57EE', 'Q141', 'SQ79EO', 'PQ135AAG', 'WT_Q59_E', 'NQ135A_newAI', 'NQ135A_newZ', 'NQ135A_newAS', 'ZNQ10BC', 'Q65', 'NQ135BK', 'PQ135AI', 'ZNQ10BD', 'SQ79EF', 'Q150r', 'SOA2', 'NQ135A_newQ', 'Q132AE', 'XQ119B', 'NQ45BD', 'SQ132O', 'PQ135AC', 'XQ57ED', 'XQ57A', 'Q14D', 'NNQ135A_newB', 'Q66', 'WT_Q57', 'ZNQ10BF', 'Q132GG', 'PQ135AAI', 'SQ79E', 'ZPQ119', 'Q136r', 'ZQ10I', 'NQ79BI', 'Q54C', 'BQ90D', 'XQ81', 'SQ132AK', 'Q142F', 'SQ132K', 'PQ135AAJ', 'WT_Q58', 'NQ135A_newAN', 'ZNQ10BE', 'SQ109CAC', 'NQ135BF', 'Q132AL', 'SQ79EB', 'XQ128D', 'WARD_1', 'SQ132X', 'Q132AI', 'BOROU3', 'XQ122A', 'WT_Q54', 'SQ79EI', 'NQ43AE', 'XQ106C', 'Q58', 'NQ44BE', 'NQ47BB', 'PQ135AAK', 'NQ48A', 'BQ90EB', 'NNQ135A_newC', 'BOROU4', 'XQ57EA', 'WT_Q53', 'NQ79ABE', 'XQ192', 'PQ135AB', 'NQ62D', 'NQ45BA', 'NQ135A_newG', 'PQ135AAD', 'SOA1', 'SQ132AE', 'SQ132GG', 'XQ135r', 'WT_Q55', 'SQ79EC', 'ZNQ10BA', 'WT_Q56_E', 'XQ8', 'XQ59D', 'ZQ10C', 'SQ79F', 'NQ57AE', 'Q62D', 'SQ132AG', 'WT_Q55_E', 'Q54E', 'NQ49B', 'XQ59C', 'SQ79DE', 'SQ79DA', 'PQ135AAE', 'XQ59B', 'Q132AD', 'NPQ135B', 'WT_Q58_E', 'NQ47BA', 'ZNQ119', 'NQ135BL', 'XBQ90A', 'NQ79ABD', 'NQ135A_newAG', 'SQ79B', 'Q79C', 'PQ135AW', 'ZQ10E', 'XQ114B']\n",
      "PAS_ward_level_FY_20_21.csv: ['BQ90F', 'WT_Q62_E', 'NQ198A', 'NNQ135A', 'Q195A', 'NQCV3', 'NQCV6', 'WT_Q64', 'XQ128A2E', 'XQ122B', 'NQ135BN', 'NPQ135A', 'Q196A', 'NQCV28', 'NQ193A', 'ReQ136', 'Q196C', 'WT_Q63', 'XQ128F', 'NQCV17', 'NQCV16', 'Q143D', 'WT_Q63_B', 'NQCV1', 'WARD_0', 'NQ62C', 'NQCV7', 'XQ128A2D', 'NQCV4', 'XQ128A2C', 'XQ128A', 'NQCV1A', 'NQCV2', 'ReNQ147', 'Q196B', 'NQCV27', 'XQ128E', 'Q195B', 'BOROUGHNEIGHBOURHOODCODED', 'NQCV15', 'NQCV9', 'Q135BO', 'NQCV5', 'NQCV14', 'IMDQuartile', 'Week', 'BQ90DA', 'NQ135BE', 'WT_Q61', 'WT_Q64_E', 'NQCV29', 'XQ128C', 'NQ198B', 'WT_Q64_B', 'NQ135BP', 'WT_Q61_B', 'NNQ135B', 'WT_Q61_E', 'NQCV20', 'NQCV25', 'ReQ139', 'NQCV8', 'NQCV11', 'NNQ135C', 'XQ128A2B', 'Q195C', 'NQCV22', 'NQCV23', 'Borough', 'WT_Q62', 'ReXQ135', 'BOROU1', 'WT_Q63_E', 'XNQ135C', 'NQ135BF', 'XQ128D', 'WARD_1', 'XQ122A', 'NQ193B', 'NQ135BDD', 'NQCV13', 'ReQ150', 'NQ62D', 'XQ128A2A', 'NQ197', 'NQCV10', 'NPQ135C', 'Q194', 'NQCV12', 'NQCV18', 'BOROU0', 'WT_Q62_B', 'NQCV21', 'WT_Discrete_rebased', 'NPQ135B', 'NQ135BG', 'XNQ135B', 'NQ135BDB', 'Quarter', 'WT_Discrete', 'NQ135BDE', 'NQCV26', 'NQCV24', 'BCU']\n"
     ]
    },
    {
     "name": "stderr",
     "output_type": "stream",
     "text": [
      "C:\\Users\\sbsas\\AppData\\Local\\Temp\\ipykernel_23648\\3852784945.py:13: DtypeWarning: Columns (10,11,12,13,17,24,33,34,46,47,48,49,50,51,52,53,59,60,61,64,65,66,67,86,87,88,89,90,91,92,93,94,95,96,97,98,99,100,101,102,103,104,107,108,109,110,112,113,114,115,116,119,120) have mixed types. Specify dtype option on import or set low_memory=False.\n",
      "  df = pd.read_csv(file)\n"
     ]
    }
   ],
   "source": [
    "import pandas as pd\n",
    "import numpy as np\n",
    "\n",
    "# List of file paths\n",
    "files = ['PAS_ward_level_FY_15_17.csv', 'PAS_ward_level_FY_17_18.csv', 'PAS_ward_level_FY_18_19.csv', 'PAS_ward_level_FY_19_20.csv', 'PAS_ward_level_FY_20_21.csv']\n",
    "\n",
    "# Dictionary to store column names per file\n",
    "columns_per_file = {}\n",
    "\n",
    "# Iterate over the files\n",
    "for file in files:\n",
    "    # Read the file into a DataFrame\n",
    "    df = pd.read_csv(file)\n",
    "    \n",
    "    # Get the column names\n",
    "    columns = df.columns.tolist()\n",
    "    \n",
    "    # Store the column names in the dictionary\n",
    "    columns_per_file[file] = columns\n",
    "\n",
    "# Get the common columns in all files\n",
    "common_columns = set.intersection(*map(set, columns_per_file.values()))\n",
    "\n",
    "# Get the columns per file that are not found in all other files\n",
    "columns_not_found = {}\n",
    "for file, columns in columns_per_file.items():\n",
    "    columns_not_found[file] = list(set(columns) - common_columns)\n",
    "    if \"C2\" not in columns_not_found[file]:\n",
    "        print(file + \" does not have C2 column\")\n",
    "\n",
    "# Print the results\n",
    "print(\"Common columns in all files:\")\n",
    "print(common_columns)\n",
    "print()\n",
    "print(\"Columns per file that are not found in all other files:\")\n",
    "for file, columns in columns_not_found.items():\n",
    "    print(f\"{file}: {columns}\")"
   ]
  },
  {
   "cell_type": "code",
   "execution_count": 54,
   "metadata": {},
   "outputs": [
    {
     "name": "stderr",
     "output_type": "stream",
     "text": [
      "C:\\Users\\sbsas\\AppData\\Local\\Temp\\ipykernel_23648\\2389023527.py:6: DtypeWarning: Columns (13,14,15,16,17,18,19,20,21,22,35,177,410,411,412,415,416,417,418,419,420,421,422,423) have mixed types. Specify dtype option on import or set low_memory=False.\n",
      "  df1 = pd.read_csv(files[0])\n",
      "C:\\Users\\sbsas\\AppData\\Local\\Temp\\ipykernel_23648\\2389023527.py:14: DtypeWarning: Columns (30,31,32,98,99,100,101,102,103,104,105,125,126,127,199,200) have mixed types. Specify dtype option on import or set low_memory=False.\n",
      "  df1b = pd.read_csv(files[1])\n",
      "C:\\Users\\sbsas\\AppData\\Local\\Temp\\ipykernel_23648\\2389023527.py:19: DtypeWarning: Columns (25,26,27,28,108,109,110,112,113,137,202,203,381) have mixed types. Specify dtype option on import or set low_memory=False.\n",
      "  df2 = pd.read_csv(files[2])\n",
      "C:\\Users\\sbsas\\AppData\\Local\\Temp\\ipykernel_23648\\2389023527.py:27: DtypeWarning: Columns (41,42,43,131,132,133,213,214,435,444,451) have mixed types. Specify dtype option on import or set low_memory=False.\n",
      "  df3 = pd.read_csv(files[3])\n",
      "C:\\Users\\sbsas\\AppData\\Local\\Temp\\ipykernel_23648\\2389023527.py:34: DtypeWarning: Columns (10,11,12,13,17,24,33,34,46,47,48,49,50,51,52,53,59,60,61,64,65,66,67,86,87,88,89,90,91,92,93,94,95,96,97,98,99,100,101,102,103,104,107,108,109,110,112,113,114,115,116,119,120) have mixed types. Specify dtype option on import or set low_memory=False.\n",
      "  df4 = pd.read_csv(files[4])\n"
     ]
    }
   ],
   "source": [
    "# Fix the column names\n",
    "# Create an empty DataFrame to store the merged data\n",
    "merged_df = pd.DataFrame()\n",
    "dfs = []\n",
    "\n",
    "df1 = pd.read_csv(files[0])\n",
    "col1 = [\"C2\", \"MONTH\",\"Q144\", \"NQ155r\", \"Q148\", \"NQ149r\", \"XQ135r\", \"Q136r\", \"Q150r\", \"NQ147r\", \"NQ146\"]\n",
    "names1 = [\"Borough\", \"Month\", \"Household\", \"Birth country\", \"Disability\", \"Religion\", \"Gender\", \"Age\", \"Orientation\", \"Ethnicity\", \"Qualification\"]\n",
    "res1 = df1[col1].rename(columns=dict(zip(col1, names1)))\n",
    "dfs.append(res1)\n",
    "#res1.to_csv('res1.csv', index=False)\n",
    "\n",
    "\n",
    "df1b = pd.read_csv(files[1])\n",
    "res1b = df1b[col1].rename(columns=dict(zip(col1, names1)))\n",
    "dfs.append(res1b)\n",
    "#res1b.to_csv('res1b.csv', index=False)\n",
    "\n",
    "df2 = pd.read_csv(files[2])\n",
    "col2 = [\"C2\", \"MONTH\",\"Q144\", \"NQ155r\", \"Q148\", \"NQ149r\", \"XQ135r\", \"Q136r\", \"Q150r\", \"NQ147r\", \"NQ146\", \"Q139r\"]\n",
    "names2 = [\"Borough\", \"Month\", \"Household\", \"Birth country\", \"Disability\", \"Religion\", \"Gender\", \"Age\", \"Orientation\", \"Ethnicity\", \"Qualification\", \"Employment\"]\n",
    "res2 = df2[col2].rename(columns=dict(zip(col2, names2)))\n",
    "dfs.append(res2)\n",
    "#res2.to_csv('res2.csv', index=False)\n",
    "\n",
    "\n",
    "df3 = pd.read_csv(files[3])\n",
    "col3 = [\"C2\", \"MONTH\",\"Q144\", \"NQ155r\", \"Q148\", \"NQ149r\", \"XQ135r\", \"Q136r\", \"Q150r\", \"NQ147r\", \"NQ146\", \"Q139r\"]\n",
    "names3 = [\"Borough\", \"Month\", \"Household\", \"Birth country\", \"Disability\", \"Religion\", \"Gender\", \"Age\", \"Orientation\", \"Ethnicity\", \"Qualification\", \"Employment\"]\n",
    "res3 = df3[col3].rename(columns=dict(zip(col3, names3)))\n",
    "dfs.append(res3)\n",
    "#res3.to_csv('res3.csv', index=False)\n",
    "\n",
    "df4 = pd.read_csv(files[4])\n",
    "col4 = [\"Borough\", \"MONTH\",\"Q144\", \"Q148\", \"ReXQ135\", \"ReQ136\", \"ReQ150\", \"ReNQ147\", \"ReQ139\"]\n",
    "names4 = [\"Borough\", \"Month\", \"Household\", \"Disability\", \"Gender\", \"Age\", \"Orientation\", \"Ethnicity\", \"Employment\"]\n",
    "res4 = df4[col4].rename(columns=dict(zip(col4, names4)))\n",
    "dfs.append(res4)\n",
    "#res4.to_csv('res4.csv', index=False)\n",
    "\n"
   ]
  },
  {
   "cell_type": "code",
   "execution_count": 59,
   "metadata": {},
   "outputs": [
    {
     "data": {
      "text/plain": [
       "Borough             Month           Household                      \n",
       "Barking & Dagenham  109 (Apr 2020)  Buying on mortgage                  6\n",
       "                                    Owned outright                     13\n",
       "                                    Rented from Council                10\n",
       "                                    Rented from Housing Association     1\n",
       "                                    Rented from Private Landlord        6\n",
       "                                                                       ..\n",
       "Westminster         99 (Jun 2019)   Other                               3\n",
       "                                    Owned outright                      5\n",
       "                                    Rented from Council                 5\n",
       "                                    Rented from Housing Association     9\n",
       "                                    Rented from Private Landlord       10\n",
       "Length: 11799, dtype: int64"
      ]
     },
     "execution_count": 59,
     "metadata": {},
     "output_type": "execute_result"
    }
   ],
   "source": [
    "df = pd.concat(dfs, ignore_index=True)\n",
    "df.to_csv('granula_merged.csv', index=False)\n",
    "df.groupby([\"Borough\", \"Month\", \"Household\"]).size()"
   ]
  },
  {
   "cell_type": "code",
   "execution_count": 4,
   "metadata": {},
   "outputs": [
    {
     "name": "stderr",
     "output_type": "stream",
     "text": [
      "C:\\Users\\sbsas\\AppData\\Local\\Temp\\ipykernel_26556\\4048308892.py:2: DtypeWarning: Columns (3,5,10) have mixed types. Specify dtype option on import or set low_memory=False.\n",
      "  data = pd.read_csv('granula_merged.csv')\n"
     ]
    },
    {
     "data": {
      "text/plain": [
       "76398"
      ]
     },
     "execution_count": 4,
     "metadata": {},
     "output_type": "execute_result"
    }
   ],
   "source": [
    "import pandas as pd\n",
    "data = pd.read_csv('granula_merged.csv')\n",
    "data.shape[0]"
   ]
  }
 ],
 "metadata": {
  "kernelspec": {
   "display_name": "Python 3",
   "language": "python",
   "name": "python3"
  },
  "language_info": {
   "codemirror_mode": {
    "name": "ipython",
    "version": 3
   },
   "file_extension": ".py",
   "mimetype": "text/x-python",
   "name": "python",
   "nbconvert_exporter": "python",
   "pygments_lexer": "ipython3",
   "version": "3.10.5"
  }
 },
 "nbformat": 4,
 "nbformat_minor": 2
}
