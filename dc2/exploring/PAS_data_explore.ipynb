{
 "cells": [
  {
   "cell_type": "code",
   "metadata": {},
   "source": [
    "import pandas as pd\n",
    "import numpy as np\n",
    "\n",
    "# List of file paths\n",
    "files = ['PAS_ward_level_FY_15_17.csv', 'PAS_ward_level_FY_17_18.csv', 'PAS_ward_level_FY_18_19.csv', 'PAS_ward_level_FY_19_20.csv', 'PAS_ward_level_FY_20_21.csv']\n",
    "\n",
    "# Dictionary to store column names per file\n",
    "columns_per_file = {}\n",
    "\n",
    "# Iterate over the files\n",
    "for file in files:\n",
    "    # Read the file into a DataFrame\n",
    "    df = pd.read_csv(\"../data/Final datasets raw/\" +file)\n",
    "    \n",
    "    # Get the column names\n",
    "    columns = df.columns.tolist()\n",
    "    \n",
    "    # Store the column names in the dictionary\n",
    "    columns_per_file[file] = columns\n",
    "\n",
    "# Get the common columns in all files\n",
    "common_columns = set.intersection(*map(set, columns_per_file.values()))\n",
    "\n",
    "# Get the columns per file that are not found in all other files\n",
    "columns_not_found = {}\n",
    "for file, columns in columns_per_file.items():\n",
    "    columns_not_found[file] = list(set(columns) - common_columns)\n",
    "    if \"C2\" not in columns_not_found[file]:\n",
    "        print(file + \" does not have C2 column\")\n",
    "\n",
    "# Print the results\n",
    "print(\"Common columns in all files:\")\n",
    "print(common_columns)\n",
    "print()\n",
    "print(\"Columns per file that are not found in all other files:\")\n",
    "for file, columns in columns_not_found.items():\n",
    "    print(f\"{file}: {columns}\")"
   ],
   "outputs": [],
   "execution_count": null
  },
  {
   "cell_type": "code",
   "metadata": {},
   "source": [
    "# Fix the column names\n",
    "# Create an empty DataFrame to store the merged data\n",
    "merged_df = pd.DataFrame()\n",
    "dfs = []\n",
    "\n",
    "df1 = pd.read_csv(files[0])\n",
    "col1 = [\"C2\", \"MONTH\",\"Q144\", \"NQ155r\", \"Q148\", \"NQ149r\", \"XQ135r\", \"Q136r\", \"Q150r\", \"NQ147r\", \"NQ146\"]\n",
    "names1 = [\"Borough\", \"Month\", \"Household\", \"Birth country\", \"Disability\", \"Religion\", \"Gender\", \"Age\", \"Orientation\", \"Ethnicity\", \"Qualification\"]\n",
    "res1 = df1[col1].rename(columns=dict(zip(col1, names1)))\n",
    "dfs.append(res1)\n",
    "#res1.to_csv('res1.csv', index=False)\n",
    "\n",
    "\n",
    "df1b = pd.read_csv(files[1])\n",
    "res1b = df1b[col1].rename(columns=dict(zip(col1, names1)))\n",
    "dfs.append(res1b)\n",
    "#res1b.to_csv('res1b.csv', index=False)\n",
    "\n",
    "df2 = pd.read_csv(files[2])\n",
    "col2 = [\"C2\", \"MONTH\",\"Q144\", \"NQ155r\", \"Q148\", \"NQ149r\", \"XQ135r\", \"Q136r\", \"Q150r\", \"NQ147r\", \"NQ146\", \"Q139r\"]\n",
    "names2 = [\"Borough\", \"Month\", \"Household\", \"Birth country\", \"Disability\", \"Religion\", \"Gender\", \"Age\", \"Orientation\", \"Ethnicity\", \"Qualification\", \"Employment\"]\n",
    "res2 = df2[col2].rename(columns=dict(zip(col2, names2)))\n",
    "dfs.append(res2)\n",
    "#res2.to_csv('res2.csv', index=False)\n",
    "\n",
    "\n",
    "df3 = pd.read_csv(files[3])\n",
    "col3 = [\"C2\", \"MONTH\",\"Q144\", \"NQ155r\", \"Q148\", \"NQ149r\", \"XQ135r\", \"Q136r\", \"Q150r\", \"NQ147r\", \"NQ146\", \"Q139r\"]\n",
    "names3 = [\"Borough\", \"Month\", \"Household\", \"Birth country\", \"Disability\", \"Religion\", \"Gender\", \"Age\", \"Orientation\", \"Ethnicity\", \"Qualification\", \"Employment\"]\n",
    "res3 = df3[col3].rename(columns=dict(zip(col3, names3)))\n",
    "dfs.append(res3)\n",
    "#res3.to_csv('res3.csv', index=False)\n",
    "\n",
    "df4 = pd.read_csv(files[4])\n",
    "col4 = [\"Borough\", \"MONTH\",\"Q144\", \"Q148\", \"ReXQ135\", \"ReQ136\", \"ReQ150\", \"ReNQ147\", \"ReQ139\"]\n",
    "names4 = [\"Borough\", \"Month\", \"Household\", \"Disability\", \"Gender\", \"Age\", \"Orientation\", \"Ethnicity\", \"Employment\"]\n",
    "res4 = df4[col4].rename(columns=dict(zip(col4, names4)))\n",
    "dfs.append(res4)\n",
    "#res4.to_csv('res4.csv', index=False)\n",
    "\n"
   ],
   "outputs": [],
   "execution_count": null
  },
  {
   "cell_type": "code",
   "metadata": {},
   "source": [
    "df = pd.concat(dfs, ignore_index=True)\n",
    "df.to_csv('granula_merged.csv', index=False)\n",
    "df.groupby([\"Borough\", \"Month\", \"Household\"]).size()"
   ],
   "outputs": [],
   "execution_count": null
  },
  {
   "cell_type": "code",
   "metadata": {},
   "source": [
    "import pandas as pd\n",
    "data = pd.read_csv('../data/Final datasets cleaned/granula_merged.csv')\n",
    "data.shape[0]"
   ],
   "outputs": [],
   "execution_count": null
  }
 ],
 "metadata": {
  "kernelspec": {
   "display_name": "Python 3",
   "language": "python",
   "name": "python3"
  },
  "language_info": {
   "codemirror_mode": {
    "name": "ipython",
    "version": 3
   },
   "file_extension": ".py",
   "mimetype": "text/x-python",
   "name": "python",
   "nbconvert_exporter": "python",
   "pygments_lexer": "ipython3",
   "version": "3.10.5"
  }
 },
 "nbformat": 4,
 "nbformat_minor": 2
}
